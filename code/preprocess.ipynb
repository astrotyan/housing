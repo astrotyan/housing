{
 "cells": [
  {
   "cell_type": "markdown",
   "metadata": {},
   "source": [
    "### Libraries and Settings"
   ]
  },
  {
   "cell_type": "code",
   "execution_count": 1,
   "metadata": {},
   "outputs": [],
   "source": [
    "import numpy as np\n",
    "import pandas as pd\n",
    "import matplotlib.pyplot as plt\n",
    "%matplotlib inline\n",
    "\n",
    "from sklearn.preprocessing import OneHotEncoder\n",
    "from sklearn.impute import SimpleImputer\n",
    "from sklearn.preprocessing import MinMaxScaler\n",
    "from sklearn.preprocessing import StandardScaler\n",
    "from sklearn.impute import KNNImputer"
   ]
  },
  {
   "cell_type": "code",
   "execution_count": 2,
   "metadata": {},
   "outputs": [],
   "source": [
    "pd.set_option('display.max_columns', None)"
   ]
  },
  {
   "cell_type": "markdown",
   "metadata": {},
   "source": [
    "### Import Data"
   ]
  },
  {
   "cell_type": "code",
   "execution_count": 3,
   "metadata": {},
   "outputs": [],
   "source": [
    "train = pd.read_csv('../data/Model Train.csv').drop('Unnamed: 0', axis=1)"
   ]
  },
  {
   "cell_type": "code",
   "execution_count": 4,
   "metadata": {},
   "outputs": [],
   "source": [
    "test = pd.read_csv('../data/Model Test.csv').drop('Unnamed: 0', axis=1)"
   ]
  },
  {
   "cell_type": "code",
   "execution_count": 5,
   "metadata": {},
   "outputs": [],
   "source": [
    "Ktest = pd.read_csv('../data/Kaggle_test.csv')"
   ]
  },
  {
   "cell_type": "code",
   "execution_count": 6,
   "metadata": {
    "scrolled": true
   },
   "outputs": [],
   "source": [
    "# features = Ktest.isnull().sum().index\n",
    "\n",
    "# missing = []\n",
    "# missing.append(train.isnull().sum()[:-1])\n",
    "# missing.append(test.isnull().sum()[:-1])\n",
    "# missing.append(Ktest.isnull().sum())\n",
    "\n",
    "# missingness = pd.DataFrame({'train':missing[0],'test':missing[1],'Ktest':missing[2]},\n",
    "#                            index=features)\n",
    "\n",
    "# pd.set_option('display.max_rows', None)\n",
    "# missingness\n",
    "# # pd.reset_option('display.max_rows')"
   ]
  },
  {
   "cell_type": "markdown",
   "metadata": {},
   "source": [
    "# Nominal Categorical Features"
   ]
  },
  {
   "cell_type": "code",
   "execution_count": 7,
   "metadata": {},
   "outputs": [],
   "source": [
    "cat_nom_cols = ['MSSubClass','MSZoning','Street','Alley','LotShape','LandContour',\n",
    "                'Utilities','LotConfig','LandSlope','Neighborhood','Condition1',\n",
    "                'Condition2','BldgType','HouseStyle']"
   ]
  },
  {
   "cell_type": "markdown",
   "metadata": {},
   "source": [
    "### MSSubClass"
   ]
  },
  {
   "cell_type": "markdown",
   "metadata": {},
   "source": [
    "Modify this column to 'PUD' if the house is a PUD, and 'NotPUD' if it's not a PUD. Other infomation in this column is redundent because it's repeated in other columns."
   ]
  },
  {
   "cell_type": "code",
   "execution_count": 8,
   "metadata": {},
   "outputs": [],
   "source": [
    "def pp_MSSubClass(sr):\n",
    "    sr_temp = sr.apply(lambda x: 'PUD' if x in [120,150,160,180] else 'NotPUD')\n",
    "    return(sr_temp)"
   ]
  },
  {
   "cell_type": "code",
   "execution_count": 9,
   "metadata": {},
   "outputs": [],
   "source": [
    "train['MSSubClass'] = pp_MSSubClass(train['MSSubClass'])\n",
    "test['MSSubClass'] = pp_MSSubClass(test['MSSubClass'])\n",
    "Ktest['MSSubClass'] = pp_MSSubClass(Ktest['MSSubClass'])"
   ]
  },
  {
   "cell_type": "markdown",
   "metadata": {},
   "source": [
    "### Alley"
   ]
  },
  {
   "cell_type": "markdown",
   "metadata": {},
   "source": [
    "NA means no alley access. So impute with 'NoAlley'."
   ]
  },
  {
   "cell_type": "code",
   "execution_count": 10,
   "metadata": {},
   "outputs": [],
   "source": [
    "def pp_Alley(sr):\n",
    "    sr_temp = sr.fillna('NoAlley')\n",
    "    return(sr_temp)"
   ]
  },
  {
   "cell_type": "code",
   "execution_count": 11,
   "metadata": {},
   "outputs": [],
   "source": [
    "train['Alley'] = pp_Alley(train['Alley'])\n",
    "test['Alley'] = pp_Alley(test['Alley'])\n",
    "Ktest['Alley'] = pp_Alley(Ktest['Alley'])"
   ]
  },
  {
   "cell_type": "markdown",
   "metadata": {},
   "source": [
    "### Impute"
   ]
  },
  {
   "cell_type": "code",
   "execution_count": 12,
   "metadata": {},
   "outputs": [],
   "source": [
    "cat_nom_imp = SimpleImputer(strategy='most_frequent')\n",
    "cat_nom_imp = cat_nom_imp.fit(train[cat_nom_cols])"
   ]
  },
  {
   "cell_type": "code",
   "execution_count": 13,
   "metadata": {},
   "outputs": [],
   "source": [
    "cat_nom_imp_train = pd.DataFrame(cat_nom_imp.transform(train[cat_nom_cols]),\n",
    "                                columns = cat_nom_cols)\n",
    "cat_nom_imp_test = pd.DataFrame(cat_nom_imp.transform(test[cat_nom_cols]),\n",
    "                                columns = cat_nom_cols)\n",
    "cat_nom_imp_Ktest = pd.DataFrame(cat_nom_imp.transform(Ktest[cat_nom_cols]),\n",
    "                                columns = cat_nom_cols)"
   ]
  },
  {
   "cell_type": "markdown",
   "metadata": {},
   "source": [
    "### One Hot Encoding"
   ]
  },
  {
   "cell_type": "code",
   "execution_count": 14,
   "metadata": {},
   "outputs": [],
   "source": [
    "drop_col = train[cat_nom_cols].apply(lambda col: col.value_counts().index[0])\n",
    "\n",
    "cat_nom_ohe = OneHotEncoder(categories='auto', drop=drop_col, sparse = False)\n",
    "cat_nom_ohe = cat_nom_ohe.fit(cat_nom_imp_train)\n",
    "\n",
    "new_cols = cat_nom_ohe.get_feature_names(cat_nom_cols)"
   ]
  },
  {
   "cell_type": "code",
   "execution_count": 15,
   "metadata": {},
   "outputs": [],
   "source": [
    "cat_nom_clean_train = pd.DataFrame(cat_nom_ohe.transform(cat_nom_imp_train),\n",
    "                                   columns=new_cols )\n",
    "cat_nom_clean_test = pd.DataFrame(cat_nom_ohe.transform(cat_nom_imp_test),\n",
    "                                  columns=new_cols )\n",
    "cat_nom_clean_Ktest = pd.DataFrame(cat_nom_ohe.transform(cat_nom_imp_Ktest),\n",
    "                                   columns=new_cols )"
   ]
  },
  {
   "cell_type": "markdown",
   "metadata": {},
   "source": [
    "### Condition1 & Condition2"
   ]
  },
  {
   "cell_type": "markdown",
   "metadata": {},
   "source": [
    "Combine condition1 and condition2 together."
   ]
  },
  {
   "cell_type": "code",
   "execution_count": 16,
   "metadata": {},
   "outputs": [
    {
     "name": "stdout",
     "output_type": "stream",
     "text": [
      "['Condition1_Artery', 'Condition1_Feedr', 'Condition1_PosA', 'Condition1_PosN', 'Condition1_RRAe', 'Condition1_RRAn', 'Condition1_RRNe', 'Condition1_RRNn']\n",
      "['Condition2_Artery', 'Condition2_Feedr', 'Condition2_PosA', 'Condition2_PosN', 'Condition2_RRAe', 'Condition2_RRAn', 'Condition2_RRNn']\n"
     ]
    }
   ],
   "source": [
    "Condition1_cols = [col for col in new_cols if 'Condition1' in col]\n",
    "Condition2_cols = [col for col in new_cols if 'Condition2' in col]\n",
    "print(Condition1_cols)\n",
    "print(Condition2_cols)"
   ]
  },
  {
   "cell_type": "markdown",
   "metadata": {},
   "source": [
    "One feature, 'Condition1_RRNe', is not in Condition2_cols. Get rid of it from Condition1_cols."
   ]
  },
  {
   "cell_type": "code",
   "execution_count": 17,
   "metadata": {},
   "outputs": [],
   "source": [
    "Condition1_cols.remove('Condition1_RRNe')"
   ]
  },
  {
   "cell_type": "code",
   "execution_count": 18,
   "metadata": {},
   "outputs": [],
   "source": [
    "def combine_C1_C2(df):\n",
    "    df_temp = df.copy()\n",
    "    for i in range(len(Condition1_cols)):\n",
    "        mask = df_temp[Condition2_cols[i]] == 1\n",
    "        df_temp.loc[mask,Condition1_cols[i]] = 1\n",
    "    df_temp = df_temp.drop(Condition2_cols,axis=1)\n",
    "    return(df_temp)"
   ]
  },
  {
   "cell_type": "code",
   "execution_count": 19,
   "metadata": {},
   "outputs": [],
   "source": [
    "cat_nom_clean_train = combine_C1_C2(cat_nom_clean_train)\n",
    "cat_nom_clean_test = combine_C1_C2(cat_nom_clean_test)\n",
    "cat_nom_clean_Ktest = combine_C1_C2(cat_nom_clean_Ktest)"
   ]
  },
  {
   "cell_type": "markdown",
   "metadata": {},
   "source": [
    "# Ordinal Categorical Features"
   ]
  },
  {
   "cell_type": "code",
   "execution_count": 20,
   "metadata": {},
   "outputs": [],
   "source": [
    "cat_ord_cols = ['OverallQual', 'OverallCond','AgeBuilt','AgeRemodAdd']"
   ]
  },
  {
   "cell_type": "markdown",
   "metadata": {},
   "source": [
    "### YearBuilt"
   ]
  },
  {
   "cell_type": "markdown",
   "metadata": {},
   "source": [
    "Change this column to building age at sale."
   ]
  },
  {
   "cell_type": "code",
   "execution_count": 21,
   "metadata": {},
   "outputs": [],
   "source": [
    "train['AgeBuilt'] = train['YrSold'] - train['YearBuilt']\n",
    "test['AgeBuilt'] = test['YrSold'] - test['YearBuilt']\n",
    "Ktest['AgeBuilt'] = Ktest['YrSold'] - Ktest['YearBuilt']"
   ]
  },
  {
   "cell_type": "markdown",
   "metadata": {},
   "source": [
    "### YearRemodAdd"
   ]
  },
  {
   "cell_type": "markdown",
   "metadata": {},
   "source": [
    "Change this column to remodeling age at sale."
   ]
  },
  {
   "cell_type": "code",
   "execution_count": 22,
   "metadata": {},
   "outputs": [],
   "source": [
    "train['AgeRemodAdd'] = train['YrSold'] - train['YearRemodAdd']\n",
    "test['AgeRemodAdd'] = test['YrSold'] - test['YearRemodAdd']\n",
    "Ktest['AgeRemodAdd'] = Ktest['YrSold'] - Ktest['YearRemodAdd']"
   ]
  },
  {
   "cell_type": "markdown",
   "metadata": {},
   "source": [
    "### Impute"
   ]
  },
  {
   "cell_type": "code",
   "execution_count": 23,
   "metadata": {},
   "outputs": [],
   "source": [
    "cat_ord_imp = SimpleImputer(strategy='median')\n",
    "cat_ord_imp = cat_ord_imp.fit(train[cat_ord_cols])"
   ]
  },
  {
   "cell_type": "code",
   "execution_count": 24,
   "metadata": {},
   "outputs": [],
   "source": [
    "cat_ord_imp_train = pd.DataFrame(cat_ord_imp.transform(train[cat_ord_cols]),\n",
    "                                columns = cat_ord_cols)\n",
    "cat_ord_imp_test = pd.DataFrame(cat_ord_imp.transform(test[cat_ord_cols]),\n",
    "                                columns = cat_ord_cols)\n",
    "cat_ord_imp_Ktest = pd.DataFrame(cat_ord_imp.transform(Ktest[cat_ord_cols]),\n",
    "                                columns = cat_ord_cols)"
   ]
  },
  {
   "cell_type": "markdown",
   "metadata": {},
   "source": [
    "### MinMax Scale"
   ]
  },
  {
   "cell_type": "code",
   "execution_count": 25,
   "metadata": {},
   "outputs": [],
   "source": [
    "cat_ord_scl = MinMaxScaler()\n",
    "cat_ord_scl = cat_ord_scl.fit(cat_ord_imp_train)"
   ]
  },
  {
   "cell_type": "code",
   "execution_count": 26,
   "metadata": {},
   "outputs": [],
   "source": [
    "cat_ord_clean_train = pd.DataFrame(cat_ord_scl.transform(cat_ord_imp_train),\n",
    "                                columns = cat_ord_cols)\n",
    "cat_ord_clean_test = pd.DataFrame(cat_ord_scl.transform(cat_ord_imp_test),\n",
    "                                columns = cat_ord_cols)\n",
    "cat_ord_clean_Ktest = pd.DataFrame(cat_ord_scl.transform(cat_ord_imp_Ktest),\n",
    "                                columns = cat_ord_cols)"
   ]
  },
  {
   "cell_type": "markdown",
   "metadata": {},
   "source": [
    "# Numerical Features"
   ]
  },
  {
   "cell_type": "code",
   "execution_count": 27,
   "metadata": {},
   "outputs": [],
   "source": [
    "num_cols = ['LotFrontage','LotArea']"
   ]
  },
  {
   "cell_type": "markdown",
   "metadata": {},
   "source": [
    "For both columns, log transform first, then scale, then impute using knn on the whole dataset."
   ]
  },
  {
   "cell_type": "markdown",
   "metadata": {},
   "source": [
    "### LotArea"
   ]
  },
  {
   "cell_type": "code",
   "execution_count": 28,
   "metadata": {},
   "outputs": [],
   "source": [
    "train['LotArea'] = np.log(train['LotArea'])\n",
    "test['LotArea'] = np.log(test['LotArea'])\n",
    "Ktest['LotArea'] = np.log(Ktest['LotArea'])"
   ]
  },
  {
   "cell_type": "markdown",
   "metadata": {},
   "source": [
    "### LotFrontage"
   ]
  },
  {
   "cell_type": "code",
   "execution_count": 29,
   "metadata": {},
   "outputs": [],
   "source": [
    "train['LotFrontage'] = np.log(train['LotFrontage'])\n",
    "test['LotFrontage'] = np.log(test['LotFrontage'])\n",
    "Ktest['LotFrontage'] = np.log(Ktest['LotFrontage'])"
   ]
  },
  {
   "cell_type": "markdown",
   "metadata": {},
   "source": [
    "### Scale"
   ]
  },
  {
   "cell_type": "code",
   "execution_count": 30,
   "metadata": {},
   "outputs": [],
   "source": [
    "num_scl = StandardScaler()\n",
    "num_scl = num_scl.fit(train[num_cols])"
   ]
  },
  {
   "cell_type": "code",
   "execution_count": 31,
   "metadata": {},
   "outputs": [],
   "source": [
    "num_scl_train = pd.DataFrame(num_scl.transform(train[num_cols]),columns=num_cols)\n",
    "num_scl_test = pd.DataFrame(num_scl.transform(test[num_cols]),columns=num_cols)\n",
    "num_scl_Ktest = pd.DataFrame(num_scl.transform(Ktest[num_cols]),columns=num_cols)"
   ]
  },
  {
   "cell_type": "markdown",
   "metadata": {},
   "source": [
    "# Merge Together"
   ]
  },
  {
   "cell_type": "code",
   "execution_count": 32,
   "metadata": {},
   "outputs": [],
   "source": [
    "clean_train = pd.concat([cat_nom_clean_train,cat_ord_clean_train,num_scl_train],axis=1)\n",
    "clean_test = pd.concat([cat_nom_clean_test,cat_ord_clean_test,num_scl_test],axis=1)\n",
    "clean_Ktest = pd.concat([cat_nom_clean_Ktest,cat_ord_clean_Ktest,num_scl_Ktest],axis=1)"
   ]
  },
  {
   "cell_type": "markdown",
   "metadata": {},
   "source": [
    "### Impute LotFrontage Using KNN"
   ]
  },
  {
   "cell_type": "code",
   "execution_count": 33,
   "metadata": {},
   "outputs": [],
   "source": [
    "from math import sqrt\n",
    "n_neighbors = round(sqrt(train.shape[0]))\n",
    "num_imp = KNNImputer(n_neighbors=n_neighbors)\n",
    "num_imp = num_imp.fit(clean_train)"
   ]
  },
  {
   "cell_type": "code",
   "execution_count": 34,
   "metadata": {},
   "outputs": [],
   "source": [
    "cols = clean_train.columns\n",
    "clean_train = pd.DataFrame(num_imp.transform(clean_train),columns=cols)\n",
    "clean_test = pd.DataFrame(num_imp.transform(clean_test),columns=cols)\n",
    "clean_Ktest = pd.DataFrame(num_imp.transform(clean_Ktest),columns=cols)"
   ]
  },
  {
   "cell_type": "markdown",
   "metadata": {},
   "source": [
    "It looks like the whole data set is imputed with KNN. But since LotArea doesn't have missing values, and all the other features have been imputed before, this step actually only imputes LotFrontage."
   ]
  },
  {
   "cell_type": "markdown",
   "metadata": {},
   "source": [
    "### Output"
   ]
  },
  {
   "cell_type": "code",
   "execution_count": 35,
   "metadata": {},
   "outputs": [],
   "source": [
    "clean_train = pd.concat([train['Id'],clean_train],axis=1)\n",
    "clean_test = pd.concat([test['Id'],clean_test],axis=1)\n",
    "clean_Ktest = pd.concat([Ktest['Id'],clean_Ktest],axis=1)"
   ]
  },
  {
   "cell_type": "code",
   "execution_count": 36,
   "metadata": {},
   "outputs": [],
   "source": [
    "clean_train.to_csv('../data/clean_train_Ting')\n",
    "clean_test.to_csv('../data/clean_test_Ting')\n",
    "clean_Ktest.to_csv('../data/clean_Ktest_Ting')"
   ]
  },
  {
   "cell_type": "code",
   "execution_count": null,
   "metadata": {},
   "outputs": [],
   "source": []
  }
 ],
 "metadata": {
  "kernelspec": {
   "display_name": "Python 3",
   "language": "python",
   "name": "python3"
  },
  "language_info": {
   "codemirror_mode": {
    "name": "ipython",
    "version": 3
   },
   "file_extension": ".py",
   "mimetype": "text/x-python",
   "name": "python",
   "nbconvert_exporter": "python",
   "pygments_lexer": "ipython3",
   "version": "3.7.6"
  }
 },
 "nbformat": 4,
 "nbformat_minor": 4
}
